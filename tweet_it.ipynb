{
 "cells": [
  {
   "cell_type": "code",
   "execution_count": 1,
   "metadata": {},
   "outputs": [
    {
     "name": "stdout",
     "output_type": "stream",
     "text": [
      "Collecting tweepy\n",
      "  Downloading tweepy-3.9.0-py2.py3-none-any.whl (30 kB)\n",
      "Requirement already satisfied: six>=1.10.0 in /Users/spencerbraun/dev/virtualenvs/venv3/lib/python3.7/site-packages (from tweepy) (1.12.0)\n",
      "Requirement already satisfied: requests-oauthlib>=0.7.0 in /Users/spencerbraun/dev/virtualenvs/venv3/lib/python3.7/site-packages (from tweepy) (1.3.0)\n",
      "Requirement already satisfied: requests[socks]>=2.11.1 in /Users/spencerbraun/dev/virtualenvs/venv3/lib/python3.7/site-packages (from tweepy) (2.22.0)\n",
      "Requirement already satisfied: oauthlib>=3.0.0 in /Users/spencerbraun/dev/virtualenvs/venv3/lib/python3.7/site-packages (from requests-oauthlib>=0.7.0->tweepy) (3.1.0)\n",
      "Requirement already satisfied: idna<2.9,>=2.5 in /Users/spencerbraun/dev/virtualenvs/venv3/lib/python3.7/site-packages (from requests[socks]>=2.11.1->tweepy) (2.8)\n",
      "Requirement already satisfied: urllib3!=1.25.0,!=1.25.1,<1.26,>=1.21.1 in /Users/spencerbraun/dev/virtualenvs/venv3/lib/python3.7/site-packages (from requests[socks]>=2.11.1->tweepy) (1.24.3)\n",
      "Requirement already satisfied: certifi>=2017.4.17 in /Users/spencerbraun/dev/virtualenvs/venv3/lib/python3.7/site-packages (from requests[socks]>=2.11.1->tweepy) (2019.3.9)\n",
      "Requirement already satisfied: chardet<3.1.0,>=3.0.2 in /Users/spencerbraun/dev/virtualenvs/venv3/lib/python3.7/site-packages (from requests[socks]>=2.11.1->tweepy) (3.0.4)\n",
      "Collecting PySocks!=1.5.7,>=1.5.6; extra == \"socks\"\n",
      "  Downloading PySocks-1.7.1-py3-none-any.whl (16 kB)\n",
      "Installing collected packages: tweepy, PySocks\n",
      "Successfully installed PySocks-1.7.1 tweepy-3.9.0\n"
     ]
    }
   ],
   "source": [
    "import tweepy"
   ]
  },
  {
   "cell_type": "code",
   "execution_count": null,
   "metadata": {},
   "outputs": [],
   "source": []
  },
  {
   "cell_type": "code",
   "execution_count": null,
   "metadata": {},
   "outputs": [],
   "source": [
    "twitter_auth_keys = { \n",
    "    \"consumer_key\"        : \"REPLACE_THIS_WITH_YOUR_CONSUMER_KEY\",\n",
    "    \"consumer_secret\"     : \"REPLACE_THIS_WITH_YOUR_CONSUMER_SECRET\",\n",
    "    \"access_token\"        : \"REPLACE_THIS_WITH_YOUR_ACCESS_TOKEN\",\n",
    "    \"access_token_secret\" : \"REPLACE_THIS_WITH_YOUR_ACCESS_TOKEN_SECRET\"\n",
    "}\n",
    "\n",
    "auth = tweepy.OAuthHandler(\n",
    "        twitter_auth_keys['consumer_key'],\n",
    "        twitter_auth_keys['consumer_secret']\n",
    "        )\n",
    "auth.set_access_token(\n",
    "        twitter_auth_keys['access_token'],\n",
    "        twitter_auth_keys['access_token_secret']\n",
    "        )\n",
    "\n",
    "api = tweepy.API(auth)\n",
    "\n",
    "tweet = \"Another day, another #scifi #book and a cup of #coffee\"\n",
    "status = api.update_status(status=tweet) \n",
    "\n",
    "API.media_upload"
   ]
  },
  {
   "cell_type": "code",
   "execution_count": null,
   "metadata": {},
   "outputs": [],
   "source": [
    "# Upload images and get media_ids\n",
    "filenames = ['1.png', '2.png', ...]\n",
    "media_ids = []\n",
    "for filename in filenames:\n",
    "     res = api.media_upload(filename)\n",
    "     media_ids.append(res.media_id)\n",
    "\n",
    "# Tweet with multiple images\n",
    "api.update_status(status='many images!✨', media_ids=media_ids)"
   ]
  }
 ],
 "metadata": {
  "kernelspec": {
   "display_name": "Python 3",
   "language": "python",
   "name": "python3"
  },
  "language_info": {
   "codemirror_mode": {
    "name": "ipython",
    "version": 3
   },
   "file_extension": ".py",
   "mimetype": "text/x-python",
   "name": "python",
   "nbconvert_exporter": "python",
   "pygments_lexer": "ipython3",
   "version": "3.7.6"
  }
 },
 "nbformat": 4,
 "nbformat_minor": 2
}
