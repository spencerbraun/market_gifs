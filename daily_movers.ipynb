{
 "cells": [
  {
   "cell_type": "code",
   "execution_count": 4,
   "metadata": {},
   "outputs": [],
   "source": [
    "import json\n",
    "import os\n",
    "import sys\n",
    "from collections import defaultdict\n",
    "from datetime import datetime\n",
    "\n",
    "import requests\n",
    "import pandas as pd\n",
    "import matplotlib\n",
    "import matplotlib.pyplot as plt\n",
    "\n",
    "from bs4 import BeautifulSoup\n",
    "\n",
    "from marketAPI import AlphaVantage\n",
    "\n",
    "%matplotlib inline\n",
    "\n",
    "import pickle"
   ]
  },
  {
   "cell_type": "code",
   "execution_count": 101,
   "metadata": {},
   "outputs": [],
   "source": [
    "today = pd.Timestamp.today()\n",
    "\n",
    "date_str = today.date().strftime(\"%Y%m%d\")\n",
    "timestamp = today.timestamp()"
   ]
  },
  {
   "cell_type": "code",
   "execution_count": 59,
   "metadata": {},
   "outputs": [],
   "source": [
    "active_df = pd.read_html(\"https://finance.yahoo.com/most-active\")[0]"
   ]
  },
  {
   "cell_type": "code",
   "execution_count": null,
   "metadata": {},
   "outputs": [],
   "source": [
    "https://robinhood.com/collections/100-most-popular"
   ]
  },
  {
   "cell_type": "code",
   "execution_count": 60,
   "metadata": {},
   "outputs": [],
   "source": [
    "def shortConvert(cap):\n",
    "    multiplier = cap[-1]\n",
    "    number = {'M': 1e6, 'B': 1e9, 'T': 1e12}\n",
    "    \n",
    "    return float(cap[:-1]) * number.get(multiplier)"
   ]
  },
  {
   "cell_type": "code",
   "execution_count": 61,
   "metadata": {},
   "outputs": [],
   "source": [
    "active_df['% Change'] = active_df['% Change'].apply(lambda x: float(x.strip(\"+%\")))\n",
    "active_df.loc[:, ['Market Cap', 'Volume']] = active_df.loc[:, ['Market Cap', 'Volume']].applymap(shortConvert)"
   ]
  },
  {
   "cell_type": "code",
   "execution_count": 65,
   "metadata": {},
   "outputs": [],
   "source": [
    "top_gainers = active_df.sort_values('% Change').iloc[-3:]\n",
    "top_losers = active_df.sort_values('% Change').iloc[:3]"
   ]
  },
  {
   "cell_type": "code",
   "execution_count": 69,
   "metadata": {},
   "outputs": [
    {
     "data": {
      "text/html": [
       "<div>\n",
       "<style scoped>\n",
       "    .dataframe tbody tr th:only-of-type {\n",
       "        vertical-align: middle;\n",
       "    }\n",
       "\n",
       "    .dataframe tbody tr th {\n",
       "        vertical-align: top;\n",
       "    }\n",
       "\n",
       "    .dataframe thead th {\n",
       "        text-align: right;\n",
       "    }\n",
       "</style>\n",
       "<table border=\"1\" class=\"dataframe\">\n",
       "  <thead>\n",
       "    <tr style=\"text-align: right;\">\n",
       "      <th></th>\n",
       "      <th>Symbol</th>\n",
       "      <th>Name</th>\n",
       "      <th>Price (Intraday)</th>\n",
       "      <th>Change</th>\n",
       "      <th>% Change</th>\n",
       "      <th>Volume</th>\n",
       "      <th>Avg Vol (3 month)</th>\n",
       "      <th>Market Cap</th>\n",
       "      <th>PE Ratio (TTM)</th>\n",
       "      <th>52 Week Range</th>\n",
       "    </tr>\n",
       "  </thead>\n",
       "  <tbody>\n",
       "    <tr>\n",
       "      <th>34</th>\n",
       "      <td>DKNG</td>\n",
       "      <td>DraftKings Inc.</td>\n",
       "      <td>35.64</td>\n",
       "      <td>3.08</td>\n",
       "      <td>9.46</td>\n",
       "      <td>18160000.0</td>\n",
       "      <td>11.919M</td>\n",
       "      <td>1.261100e+10</td>\n",
       "      <td>NaN</td>\n",
       "      <td>NaN</td>\n",
       "    </tr>\n",
       "    <tr>\n",
       "      <th>19</th>\n",
       "      <td>DELL</td>\n",
       "      <td>Dell Technologies Inc.</td>\n",
       "      <td>59.10</td>\n",
       "      <td>6.42</td>\n",
       "      <td>12.19</td>\n",
       "      <td>24709000.0</td>\n",
       "      <td>2.744M</td>\n",
       "      <td>4.378200e+10</td>\n",
       "      <td>10.13</td>\n",
       "      <td>NaN</td>\n",
       "    </tr>\n",
       "    <tr>\n",
       "      <th>7</th>\n",
       "      <td>SPCE</td>\n",
       "      <td>Virgin Galactic Holdings, Inc.</td>\n",
       "      <td>21.07</td>\n",
       "      <td>2.52</td>\n",
       "      <td>13.58</td>\n",
       "      <td>51832000.0</td>\n",
       "      <td>15.211M</td>\n",
       "      <td>4.433000e+09</td>\n",
       "      <td>NaN</td>\n",
       "      <td>NaN</td>\n",
       "    </tr>\n",
       "  </tbody>\n",
       "</table>\n",
       "</div>"
      ],
      "text/plain": [
       "   Symbol                            Name  Price (Intraday)  Change  % Change  \\\n",
       "34   DKNG                 DraftKings Inc.             35.64    3.08      9.46   \n",
       "19   DELL          Dell Technologies Inc.             59.10    6.42     12.19   \n",
       "7    SPCE  Virgin Galactic Holdings, Inc.             21.07    2.52     13.58   \n",
       "\n",
       "        Volume Avg Vol (3 month)    Market Cap  PE Ratio (TTM)  52 Week Range  \n",
       "34  18160000.0           11.919M  1.261100e+10             NaN            NaN  \n",
       "19  24709000.0            2.744M  4.378200e+10           10.13            NaN  \n",
       "7   51832000.0           15.211M  4.433000e+09             NaN            NaN  "
      ]
     },
     "execution_count": 69,
     "metadata": {},
     "output_type": "execute_result"
    }
   ],
   "source": [
    "top_gainers"
   ]
  },
  {
   "cell_type": "code",
   "execution_count": 67,
   "metadata": {},
   "outputs": [],
   "source": [
    "# active_dict = active_df.set_index(\"Symbol\").T.to_dict()\n",
    "# active_order = active_df.Symbol.tolist()\n",
    "# with open(f\"activeTickers_{date_str}.pkl\", \"wb\") as f:\n",
    "#     pickle.dump(active_dict, f)"
   ]
  },
  {
   "cell_type": "code",
   "execution_count": 70,
   "metadata": {},
   "outputs": [],
   "source": [
    "symbol = \"SPCE\"\n",
    "interval=\"5min\"\n",
    "\n",
    "av = AlphaVantage()\n",
    "intraday = av.intradayStock(symbol, interval=interval, size=\"compact\")\n",
    "daily = av.dailyAdjStock(symbol, size='full')"
   ]
  },
  {
   "cell_type": "code",
   "execution_count": 81,
   "metadata": {},
   "outputs": [],
   "source": [
    "intradayData = intraday[f'Time Series ({interval})']\n",
    "intradayDict = defaultdict(dict)\n",
    "for k, v in intradayData.items():\n",
    "    date_key = datetime.strptime(k, \"%Y-%m-%d %H:%M:%S\")\n",
    "    intradayDict[date_key]['close'] = v['4. close']\n",
    "    intradayDict[date_key]['volume'] = v['5. volume']\n",
    "\n",
    "dailyData = daily[f'Time Series (Daily)']\n",
    "dailyDict = defaultdict(dict)\n",
    "for k, v in dailyData.items():\n",
    "    date_key = datetime.strptime(k, \"%Y-%m-%d\")\n",
    "    dailyDict[date_key]['close'] = v['5. adjusted close']\n",
    "    dailyDict[date_key]['volume'] = v['6. volume']"
   ]
  },
  {
   "cell_type": "code",
   "execution_count": 103,
   "metadata": {},
   "outputs": [],
   "source": [
    "\n",
    "if not os.path.exists(f'data_{date_str}'):\n",
    "    os.mkdir(f'data_{date_str}')\n",
    "    \n"
   ]
  },
  {
   "cell_type": "code",
   "execution_count": 110,
   "metadata": {},
   "outputs": [],
   "source": [
    "\n",
    "(\n",
    "    pd.DataFrame(dailyDict).T\n",
    "    .iloc[:200]\n",
    "    .reset_index()\n",
    "    .rename(columns={'index': 'date'})\n",
    "    .to_csv(f'data_{date_str}/{symbol}_daily_{timestamp}.csv', index=False)\n",
    ")"
   ]
  },
  {
   "cell_type": "code",
   "execution_count": 105,
   "metadata": {},
   "outputs": [],
   "source": [
    "(\n",
    "    pd.DataFrame(intradayDict).T\n",
    "    .reset_index()\n",
    "    .rename(columns={'index': 'time'})\n",
    "    .to_csv(f'data_{date_str}/{symbol}_intraday_{timestamp}.csv', index=False)\n",
    ")"
   ]
  },
  {
   "cell_type": "code",
   "execution_count": null,
   "metadata": {},
   "outputs": [],
   "source": []
  }
 ],
 "metadata": {
  "kernelspec": {
   "display_name": "Python 3",
   "language": "python",
   "name": "python3"
  },
  "language_info": {
   "codemirror_mode": {
    "name": "ipython",
    "version": 3
   },
   "file_extension": ".py",
   "mimetype": "text/x-python",
   "name": "python",
   "nbconvert_exporter": "python",
   "pygments_lexer": "ipython3",
   "version": "3.7.6"
  }
 },
 "nbformat": 4,
 "nbformat_minor": 2
}
